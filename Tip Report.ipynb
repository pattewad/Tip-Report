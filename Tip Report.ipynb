{
 "cells": [
  {
   "cell_type": "code",
   "execution_count": 2,
   "metadata": {},
   "outputs": [],
   "source": [
    "#Import Relevant Packages\n",
    "import pandas as pd\n",
    "import numpy as np\n",
    "import matplotlib.pyplot as plt"
   ]
  },
  {
   "cell_type": "markdown",
   "metadata": {},
   "source": [
    "After working at a restaurant for a few months, I decided to use python to forecast my potential year's income from this job.  Given the small sample size of my earnings spreadsheet, I decided to draw bootstrap replicates using the mean values for my tips, tipouts, and paychecks to simulate a larger sample sizes and attempt to gain more accurate yearly income forecasts.  Tips are paid every shift, tipouts are a small percentage of servers' tips paid to hosts weekly, and paychecks are paid bi-weekly based on hours worked.  \n",
    "\n",
    "Below, I removed NA values from two of my dataframes and converted them to individual numpy arrays for ease of use and analysis.  My tipout and paycheck dataframes had many NA values because all of my data came from one spreadsheet with varying column lengths.  "
   ]
  },
  {
   "cell_type": "code",
   "execution_count": 3,
   "metadata": {},
   "outputs": [],
   "source": [
    "#Initialize dataframes and remove NA values as needed for later analysis (Tip index much longer than others)\n",
    "df = pd.read_csv(\"C:/Users/patte/OneDrive - Washington and Lee University/Tip Data.csv\")\n",
    "df_tipouts = df['Tipouts']\n",
    "df_tipouts_corrected = df_tipouts.dropna(how='any')\n",
    "\n",
    "df_paychecks = df['Paychecks']\n",
    "df_paychecks_corrected = df_paychecks.dropna(how='any')"
   ]
  },
  {
   "cell_type": "code",
   "execution_count": 4,
   "metadata": {},
   "outputs": [
    {
     "data": {
      "text/plain": [
       "Text(0.5, 0, 'Tips (Dollars)')"
      ]
     },
     "execution_count": 4,
     "metadata": {},
     "output_type": "execute_result"
    },
    {
     "data": {
      "image/png": "[encoded data removed]",
      "text/plain": [
       "<Figure size 432x288 with 1 Axes>"
      ]
     },
     "metadata": {
      "needs_background": "light"
     },
     "output_type": "display_data"
    }
   ],
   "source": [
    "#initialize arrays from dataframes\n",
    "tips = np.array(df['Tips'])\n",
    "tipouts = np.array(df_tipouts_corrected)\n",
    "paychecks = np.array(df_paychecks_corrected)\n",
    "\n",
    "plt.hist(tips)\n",
    "plt.title('Histogram of Earned Tips')\n",
    "plt.ylabel('Number of Shifts')\n",
    "plt.xlabel('Tips (Dollars)')"
   ]
  },
  {
   "cell_type": "markdown",
   "metadata": {},
   "source": [
    "As you can see from the above histogram, my tips are highly variable and do not form a normal distribution.  This is probably due to outliers and the small sample size.  \n",
    "\n",
    "Below I defined my bootstrapping function to randomly sample from my datasets and replace values with the product of a function.  This allows me to draw bootstrap replicates to obtain a larger dataset and account for the high variability shown in the above histogram.  Bootstrapping also allows me to \"create\" larger datasets for paychecks and tipouts because I started with a very small sample size for these and their values have been highly variable since I started my job at the restaurant.  "
   ]
  },
  {
   "cell_type": "code",
   "execution_count": 5,
   "metadata": {},
   "outputs": [],
   "source": [
    "#define bootstrapping function; random resampling with replacement\n",
    "def bootstrap_replicate_1d(data, func):\n",
    "    return func(np.random.choice(data, size=len(data)))\n",
    "\n",
    "def draw_bs_reps(data, func, size=1):\n",
    "    #initialize array of replicates: bs_replicates\n",
    "    bs_replicates = np.empty(size)\n",
    "    \n",
    "    #generate replicates\n",
    "    for i in range(size):\n",
    "        bs_replicates[i] = bootstrap_replicate_1d(data, func)\n",
    "        \n",
    "    return bs_replicates"
   ]
  },
  {
   "cell_type": "code",
   "execution_count": 6,
   "metadata": {},
   "outputs": [
    {
     "data": {
      "text/plain": [
       "Text(0.5, 1.0, 'Tip Distribution for 10,000 Bootstrap Replicates of Mean Tips')"
      ]
     },
     "execution_count": 6,
     "metadata": {},
     "output_type": "execute_result"
    },
    {
     "data": {
      "image/png": "[encoded data removed]",
      "text/plain": [
       "<Figure size 432x288 with 1 Axes>"
      ]
     },
     "metadata": {
      "needs_background": "light"
     },
     "output_type": "display_data"
    }
   ],
   "source": [
    "#10000 Bootstrap replicates\n",
    "tips_bs_replicates = draw_bs_reps(tips, np.mean, size=10000)\n",
    "plt.hist(tips_bs_replicates)\n",
    "plt.ylabel('number of shifts')\n",
    "plt.xlabel('tips (dollars)')\n",
    "plt.title('Tip Distribution for 10,000 Bootstrap Replicates of Mean Tips')"
   ]
  },
  {
   "cell_type": "markdown",
   "metadata": {},
   "source": [
    "The above histogram shows the data generated by my bootstrapping function.  Bootstrapping provided me with a larger, more normalized dataset to (hopefully) forecast my potential income more accurately.  "
   ]
  },
  {
   "cell_type": "code",
   "execution_count": 8,
   "metadata": {},
   "outputs": [
    {
     "name": "stdout",
     "output_type": "stream",
     "text": [
      "One year of \"good\" tips:  18354.569117647057\n",
      "One year of \"average\" tips:  17453.477647058822\n",
      "One year of \"bad\" tips:  16470.48176470588\n"
     ]
    }
   ],
   "source": [
    "#potential years tips (Work about 29 shifts per month)\n",
    "monthly_shifts = 29\n",
    "\n",
    "#Take percentiles from bs replicates to estimate \"good\" \"bad\" and \"average\" tips\n",
    "good_tips = np.percentile(tips_bs_replicates, 75)\n",
    "bad_tips = np.percentile(tips_bs_replicates, 25)\n",
    "average_tips = np.mean(np.random.choice(tips_bs_replicates, size=29))\n",
    "\n",
    "def year(data, size):\n",
    "    return data * size\n",
    "\n",
    "#compute yearly shifts based on last month's shifts\n",
    "year_shifts = monthly_shifts * 12\n",
    "\n",
    "#compute potential yearly tips\n",
    "good_year_tips = year(good_tips, year_shifts)\n",
    "year_tips = year(average_tips, size = year_shifts)\n",
    "bad_year_tips = year(bad_tips, size=year_shifts)\n",
    "print('One year of \"good\" tips: ',good_year_tips)\n",
    "print('One year of \"average\" tips: ', year_tips)\n",
    "print('One year of \"bad\" tips: ', bad_year_tips)"
   ]
  },
  {
   "cell_type": "markdown",
   "metadata": {},
   "source": [
    "I decided to boootstrap my paychecks and tipouts because of my small sample size and the high variability of these values between pay cycles.  Tipouts and paychecks both depend on hours worked, and my number of working hours has been highly variable between pay cycles.  "
   ]
  },
  {
   "cell_type": "code",
   "execution_count": 9,
   "metadata": {},
   "outputs": [],
   "source": [
    "#bootstrapping paychecks to \"create\" larger dataset, compute percentiles to forecast potential income ranges\n",
    "paychecks_bs_replicates = draw_bs_reps(paychecks, np.mean, size=10000)\n",
    "good_paychecks = np.percentile(paychecks_bs_replicates, 75)\n",
    "bad_paychecks = np.percentile(paychecks_bs_replicates, 25)\n",
    "\n",
    "#bootstrapping tipouts to \"create\" larger dataset, compute percentiles to forecast potential income ranges\n",
    "tipouts_bs_replicates = draw_bs_reps(tipouts, np.mean, size=10000)\n",
    "good_tipouts = np.percentile(tipouts_bs_replicates, 75)\n",
    "bad_tipouts = np.percentile(tipouts_bs_replicates, 25)"
   ]
  },
  {
   "cell_type": "code",
   "execution_count": 16,
   "metadata": {},
   "outputs": [],
   "source": [
    "#let's look at year's paychecks\n",
    "#pay is bi-weekly, 26 paychecks per year\n",
    "good_year_paychecks = year(good_paychecks, 26)\n",
    "year_paychecks = sum(np.random.choice(paychecks_bs_replicates, size=26))\n",
    "bad_year_paychecks = year(bad_paychecks, 26)\n",
    "\n",
    "#year's tipouts, tipouts are weekly, 52 tipouts per year\n",
    "good_year_tipouts = year(good_tipouts, 52)\n",
    "year_tipouts = sum(np.random.choice(tipouts_bs_replicates, size=52))\n",
    "bad_year_tipouts = year(bad_tipouts, 52)\n",
    "#define function for income\n",
    "def income(x,y,z):\n",
    "    return round((x + y + z), ndigits=2)"
   ]
  },
  {
   "cell_type": "markdown",
   "metadata": {},
   "source": [
    "\"Good\" and \"bad\" values were computed using 75th and 25th percentiles respectively.  This is not very realistic, but I did this as a side project and wanted to forecast potential incomes for different conditions.  The middle value (\"year income\") was computed using random choice from my bootstrap replicates.  Number of random smamples for tips, tipouts, and paychecks were computed using appropriate sizes (approximate shifts per year given shifts worked so far, 26 paychecks per year, and 52 tipouts per year).  "
   ]
  },
  {
   "cell_type": "code",
   "execution_count": 17,
   "metadata": {},
   "outputs": [
    {
     "name": "stdout",
     "output_type": "stream",
     "text": [
      "good year income = $27974.96\n",
      "year income = $26198.83\n",
      "bad year income = $24001.71\n"
     ]
    }
   ],
   "source": [
    "good_income = income(good_year_paychecks, good_year_tips, good_year_tipouts)\n",
    "year_income = income(year_paychecks, year_tips, year_tipouts)\n",
    "bad_income = income(bad_year_paychecks, bad_year_tips, bad_year_tipouts)\n",
    "\n",
    "print('good year income = $' + str(good_income))\n",
    "print('year income = $' + str(year_income))\n",
    "print('bad year income = $' + str(bad_income))"
   ]
  },
  {
   "cell_type": "markdown",
   "metadata": {},
   "source": [
    "Last but not least, I was curious about how tips would change as a percentage of total income for the \"good\", \"bad\", and \"average\" conditions.  Interestingly, tips should comprise a higher percentage of total income if total income is lower.  "
   ]
  },
  {
   "cell_type": "code",
   "execution_count": 12,
   "metadata": {},
   "outputs": [
    {
     "name": "stdout",
     "output_type": "stream",
     "text": [
      "65.61070728125101\n",
      "66.84474713422938\n",
      "68.62211802703175\n"
     ]
    }
   ],
   "source": [
    "def tip_percentage(x,y):\n",
    "    return((x/y) * 100)\n",
    "\n",
    "good_tip_percentage = tip_percentage(good_year_tips, good_income)\n",
    "year_tip_percentage = tip_percentage(year_tips, year_income)\n",
    "bad_tip_percentage = tip_percentage(bad_year_tips, bad_income)\n",
    "\n",
    "print(good_tip_percentage)\n",
    "print(year_tip_percentage)\n",
    "print(bad_tip_percentage)"
   ]
  },
  {
   "cell_type": "markdown",
   "metadata": {},
   "source": [
    "I hope this report provides some insight into my programming and analytical skills, thanks for reading!"
   ]
  }
 ],
 "metadata": {
  "kernelspec": {
   "display_name": "Python 3",
   "language": "python",
   "name": "python3"
  },
  "language_info": {
   "codemirror_mode": {
    "name": "ipython",
    "version": 3
   },
   "file_extension": ".py",
   "mimetype": "text/x-python",
   "name": "python",
   "nbconvert_exporter": "python",
   "pygments_lexer": "ipython3",
   "version": "3.8.3"
  }
 },
 "nbformat": 4,
 "nbformat_minor": 4
}
